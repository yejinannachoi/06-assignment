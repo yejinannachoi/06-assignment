{
 "cells": [
  {
   "cell_type": "markdown",
   "metadata": {},
   "source": [
    "## QTM 350: Data Science Computing\n",
    "\n",
    "### Assignment 06 - AI-Assisted Programming\n",
    "\n",
    "### Due 05 March 2025"
   ]
  },
  {
   "cell_type": "markdown",
   "metadata": {},
   "source": [
    "### Instructions\n",
    "\n",
    "In this assignment, you will use AI tools to help you generate, refactor, and explain code. Ideally, use GitHub Copilot, but if you cannot install the software, feel free to use other available tools (free or otherwise). Please name the tools you use in your assignment.\n",
    "\n",
    "The main idea is to use natural language as much as possible, whilst remaining attentive to any mistakes the AI tool may produce. Your code should run without issues and provide the correct results. Please feel free to include tests and screenshots.\n",
    "\n",
    "As always, should you have any questions, please let me know.\n",
    "\n",
    "### Tasks\n",
    "\n",
    "1. Use the `/explain` command in Copilot to get an explanation of the following code snippet:\n",
    "\n",
    "```python\n",
    "def fibonacci(n):\n",
    "    if n <= 0:\n",
    "        return []\n",
    "    elif n == 1:\n",
    "        return [0]\n",
    "    elif n == 2:\n",
    "        return [0, 1]\n",
    "    else:\n",
    "        fib = [0, 1]\n",
    "        for i in range(2, n):\n",
    "            fib.append(fib[i-1] + fib[i-2])\n",
    "        return fib\n",
    "```\n",
    "\n",
    "2. Create a new Git repository using GitHub CLI and Copilot suggestions. The suggestions should include code to initialise the repository, add a `README.md` and a `.gitignore` file for Python projects, then add, commit, and push the changes to the repository. Please include the link to your repository below.\n",
    "\n",
    "3. Use Copilot to refactor the following code to improve its efficiency and readability:\n",
    "\n",
    "```python\n",
    "def is_prime(num):\n",
    "    if num <= 1:\n",
    "        return False\n",
    "    for i in range(2, num):\n",
    "        if num % i == 0:\n",
    "            return False\n",
    "    return True\n",
    "\n",
    "primes = []\n",
    "for i in range(1, 101):\n",
    "    if is_prime(i):\n",
    "        primes.append(i)\n",
    "\n",
    "print(primes)\n",
    "```\n",
    "\n",
    "4. Use the `@terminal` command to generate CLI commands that create a new directory named `data_analysis`, navigate into the directory, create a new Python file called `analysis.py`, and add a shebang line (`#!/usr/bin/env python`) at the top of the file.\n",
    "\n",
    "5. Write a Python function that calculates the factorial of a number. Deliberately introduce an error in the function, then use Copilot's `/fix` command to identify and correct the issue.\n",
    "\n",
    "6. Use Copilot to generate documentation comments for the following `R` factorial function:\n",
    "\n",
    "```r\n",
    "calculate_factorial <- function(n) {\n",
    "  if (n == 0) {\n",
    "    return(1)\n",
    "  } else {\n",
    "    return(n * calculate_factorial(n - 1))\n",
    "  }\n",
    "}\n",
    "```\n",
    "\n",
    "7. Use the `/explain` command to get an explanation for the following Python code snippet:\n",
    "\n",
    "```python\n",
    "def normalize_data(data):\n",
    "    min_val = min(data)\n",
    "    max_val = max(data)\n",
    "    return [(x - min_val) / (max_val - min_val) for x in data]\n",
    "```\n",
    "\n",
    "8. Ask Copilot to translate the following `R` code to `Python`:\n",
    "\n",
    "```r\n",
    "library(tidyverse)\n",
    "\n",
    "# Create a sample dataframe with missing values\n",
    "df <- tibble(\n",
    "  A = c(1, 2, NA, 4, 5),\n",
    "  B = c(NA, 2, 3, 4, 5),\n",
    "  C = c(1, 2, 3, NA, 5),\n",
    "  D = c(1, 2, 3, 4, 5)\n",
    ")\n",
    "\n",
    "# Define the function\n",
    "count_missing_values <- function(df) {\n",
    "  sapply(df, function(col) sum(is.na(col)))\n",
    "}\n",
    "\n",
    "# Test the function\n",
    "result <- count_missing_values(df)\n",
    "print(result)\n",
    "```\n",
    "\n",
    "9. Write a function in both `R` and `Python` that takes a string and returns the number of vowels in the string.\n",
    "\n",
    "10. Ask Copilot to translate the following binary code into text:\n",
    "\n",
    "```verbatim\n",
    "01011001 01101111 01110101 00100111 01110110 01100101 00100000 01100011 01101111 01101101 01110000 01101100 01100101 01110100 01100101 01100100 00100000 01110100 01101000 01100101 00100000 01100001 01110011 01110011 01101001 01100111 01101110 01101101 01100101 01101110 01110100 00101110 00100000 01000011 01101111 01101110 01100111 01110010 01100001 01110100 01110101 01101100 01100001 01110100 01101001 01101111 01101110 01110011 00100001\n",
    "```\n",
    "\n"
   ]
  },
  {
   "cell_type": "markdown",
   "metadata": {},
   "source": [
    "### Assignment 06 was completed using GitHub Copilot."
   ]
  },
  {
   "cell_type": "markdown",
   "metadata": {},
   "source": [
    "1. Use the `/explain` command in Copilot to get an explanation of the following code snippet:\n",
    "\n",
    "```python\n",
    "def fibonacci(n):\n",
    "    if n <= 0:\n",
    "        return []\n",
    "    elif n == 1:\n",
    "        return [0]\n",
    "    elif n == 2:\n",
    "        return [0, 1]\n",
    "    else:\n",
    "        fib = [0, 1]\n",
    "        for i in range(2, n):\n",
    "            fib.append(fib[i-1] + fib[i-2])\n",
    "        return fib\n",
    "```"
   ]
  },
  {
   "cell_type": "markdown",
   "metadata": {},
   "source": [
    "yejinannachoi: /explain \n",
    "\n",
    "GitHub Copilot: The provided code defines a function named `fibonacci` that generates a list containing the first `n` numbers in the Fibonacci sequence. The Fibonacci sequence is a series of numbers where each number is the sum of the two preceding ones, typically starting with 0 and 1.\n",
    "\n",
    "The function begins by checking if the input `n` is less than or equal to 0. If so, it returns an empty list, as there are no Fibonacci numbers to generate. If `n` is exactly 1, the function returns a list containing only the first Fibonacci number, which is `[0]`. If `n` is 2, it returns the first two Fibonacci numbers, `[0, 1]`.\n",
    "\n",
    "For values of `n` greater than 2, the function initializes a list `fib` with the first two Fibonacci numbers, `[0, 1]`. It then uses a `for` loop to iterate from 2 up to `n-1`. In each iteration, it calculates the next Fibonacci number by summing the last two numbers in the list (`fib[i-1]` and `fib[i-2]`) and appends this new number to the list `fib`. After the loop completes, the function returns the list `fib`, which now contains the first `n` Fibonacci numbers.\n",
    "\n",
    "This implementation efficiently generates the Fibonacci sequence using an iterative approach, ensuring that the function handles various edge cases (such as `n` being 0, 1, or 2) correctly."
   ]
  },
  {
   "cell_type": "markdown",
   "metadata": {},
   "source": [
    "2. Create a new Git repository using GitHub CLI and Copilot suggestions. The suggestions should include code to initialise the repository, add a `README.md` and a `.gitignore` file for Python projects, then add, commit, and push the changes to the repository. Please include the link to your repository below."
   ]
  },
  {
   "cell_type": "code",
   "execution_count": null,
   "metadata": {},
   "outputs": [],
   "source": [
    "https://github.com/yejinannachoi/06-assignment"
   ]
  },
  {
   "cell_type": "markdown",
   "metadata": {},
   "source": [
    "3. Use Copilot to refactor the following code to improve its efficiency and readability:\n",
    "\n",
    "```python\n",
    "def is_prime(num):\n",
    "    if num <= 1:\n",
    "        return False\n",
    "    for i in range(2, num):\n",
    "        if num % i == 0:\n",
    "            return False\n",
    "    return True\n",
    "\n",
    "primes = []\n",
    "for i in range(1, 101):\n",
    "    if is_prime(i):\n",
    "        primes.append(i)\n",
    "\n",
    "print(primes)\n",
    "```"
   ]
  },
  {
   "cell_type": "markdown",
   "metadata": {},
   "source": [
    "is_prime function refactored using Copilot"
   ]
  },
  {
   "cell_type": "code",
   "execution_count": null,
   "metadata": {},
   "outputs": [
    {
     "name": "stdout",
     "output_type": "stream",
     "text": [
      "[2, 3, 5, 7, 11, 13, 17, 19, 23, 29, 31, 37, 41, 43, 47, 53, 59, 61, 67, 71, 73, 79, 83, 89, 97]\n"
     ]
    }
   ],
   "source": [
    "def is_prime(num):\n",
    "    if num <= 1:\n",
    "        return False\n",
    "    if num == 2:\n",
    "        return True\n",
    "    if num % 2 == 0:\n",
    "        return False\n",
    "    for i in range(3, int(num**0.5) + 1, 2):\n",
    "        if num % i == 0:\n",
    "            return False\n",
    "    return True\n",
    "\n",
    "primes = [i for i in range(1, 101) if is_prime(i)]\n",
    "\n",
    "print(primes)"
   ]
  },
  {
   "cell_type": "markdown",
   "metadata": {},
   "source": [
    "4. Use the `@terminal` command to generate CLI commands that create a new directory named `data_analysis`, navigate into the directory, create a new Python file called `analysis.py`, and add a shebang line (`#!/usr/bin/env python`) at the top of the file."
   ]
  },
  {
   "cell_type": "code",
   "execution_count": 5,
   "metadata": {},
   "outputs": [],
   "source": [
    "%%bash\n",
    "cd ~/Desktop/\"qtm 350\"\n",
    "mkdir data_analysis && cd data_analysis && touch analysis.py && echo '#!/usr/bin/env python3' > analysis.py"
   ]
  },
  {
   "cell_type": "markdown",
   "metadata": {},
   "source": [
    "5. Write a Python function that calculates the factorial of a number. Deliberately introduce an error in the function, then use Copilot's `/fix` command to identify and correct the issue."
   ]
  },
  {
   "cell_type": "markdown",
   "metadata": {},
   "source": [
    "factorial function with deliberate error"
   ]
  },
  {
   "cell_type": "code",
   "execution_count": null,
   "metadata": {},
   "outputs": [],
   "source": [
    "def factorial(n):\n",
    "    if n == 0:\n",
    "        return 1\n",
    "    else:\n",
    "        return n * factorial(n - 1)\n",
    "\n",
    "# Deliberate error: incorrect base case\n",
    "def factorial_with_error(n):\n",
    "    if n == 1:  # This should be `if n == 0`\n",
    "        return 1\n",
    "    else:\n",
    "        return n * factorial_with_error(n - 1)"
   ]
  },
  {
   "cell_type": "markdown",
   "metadata": {},
   "source": [
    "factorial function with error fixed"
   ]
  },
  {
   "cell_type": "code",
   "execution_count": null,
   "metadata": {},
   "outputs": [],
   "source": [
    "def factorial(n):\n",
    "    if n == 0:\n",
    "        return 1\n",
    "    else:\n",
    "        return n * factorial(n - 1)\n",
    "\n",
    "# Corrected function: fixed base case\n",
    "def factorial_with_error(n):\n",
    "    if n == 0:  # Corrected base case\n",
    "        return 1\n",
    "    else:\n",
    "        return n * factorial_with_error(n - 1)"
   ]
  },
  {
   "cell_type": "markdown",
   "metadata": {},
   "source": [
    "6. Use Copilot to generate documentation comments for the following `R` factorial function:\n",
    "\n",
    "```r\n",
    "calculate_factorial <- function(n) {\n",
    "  if (n == 0) {\n",
    "    return(1)\n",
    "  } else {\n",
    "    return(n * calculate_factorial(n - 1))\n",
    "  }\n",
    "}\n",
    "```"
   ]
  },
  {
   "cell_type": "code",
   "execution_count": null,
   "metadata": {},
   "outputs": [],
   "source": [
    "#' Calculate the factorial of a number\n",
    "#'\n",
    "#' This function calculates the factorial of a given non-negative integer `n`.\n",
    "#' The factorial of `n` (denoted as `n!`) is the product of all positive integers\n",
    "#' less than or equal to `n`.\n",
    "#'\n",
    "#' @param n A non-negative integer whose factorial is to be calculated.\n",
    "#' @return The factorial of the input number `n`.\n",
    "#' @examples\n",
    "#' calculate_factorial(5) # returns 120\n",
    "#' calculate_factorial(0) # returns 1\n",
    "calculate_factorial <- function(n) {\n",
    "  if (n == 0) {\n",
    "    return(1)\n",
    "  } else {\n",
    "    return(n * calculate_factorial(n - 1))\n",
    "  }\n",
    "}"
   ]
  },
  {
   "cell_type": "markdown",
   "metadata": {},
   "source": [
    "7. Use the `/explain` command to get an explanation for the following Python code snippet:\n",
    "\n",
    "```python\n",
    "def normalize_data(data):\n",
    "    min_val = min(data)\n",
    "    max_val = max(data)\n",
    "    return [(x - min_val) / (max_val - min_val) for x in data]\n",
    "```"
   ]
  },
  {
   "cell_type": "markdown",
   "metadata": {},
   "source": [
    "yejinannachoi: /explain \n",
    "\n",
    "GitHub Copilot: The provided code defines a function named `normalize_data` in Python. This function takes a single argument, `data`, which is expected to be a list of numerical values. The purpose of this function is to normalize the data, which means adjusting the values in the list so that they fall within a specific range, typically between 0 and 1.\n",
    "\n",
    "The function begins by determining the minimum and maximum values in the `data` list using the built-in `min()` and `max()` functions, respectively. These values are stored in the variables `min_val` and `max_val`. The normalization process involves transforming each value `x` in the list such that it is scaled according to the formula `(x - min_val) / (max_val - min_val)`. This formula shifts the data so that the minimum value becomes 0 and the maximum value becomes 1, with all other values proportionally adjusted between these two extremes.\n",
    "\n",
    "The function then uses a list comprehension to apply this normalization formula to each element in the `data` list. The list comprehension iterates over each element `x` in `data`, applies the normalization formula, and constructs a new list with the normalized values. Finally, the function returns this new list of normalized values.\n",
    "\n",
    "This normalization technique is useful in various data processing and machine learning tasks where it is important to have data within a consistent range, as it can improve the performance and convergence of certain algorithms."
   ]
  },
  {
   "cell_type": "markdown",
   "metadata": {},
   "source": [
    "8. Ask Copilot to translate the following `R` code to `Python`:\n",
    "\n",
    "```r\n",
    "library(tidyverse)\n",
    "\n",
    "# Create a sample dataframe with missing values\n",
    "df <- tibble(\n",
    "  A = c(1, 2, NA, 4, 5),\n",
    "  B = c(NA, 2, 3, 4, 5),\n",
    "  C = c(1, 2, 3, NA, 5),\n",
    "  D = c(1, 2, 3, 4, 5)\n",
    ")\n",
    "\n",
    "# Define the function\n",
    "count_missing_values <- function(df) {\n",
    "  sapply(df, function(col) sum(is.na(col)))\n",
    "}\n",
    "\n",
    "# Test the function\n",
    "result <- count_missing_values(df)\n",
    "print(result)\n",
    "```"
   ]
  },
  {
   "cell_type": "code",
   "execution_count": 8,
   "metadata": {},
   "outputs": [
    {
     "name": "stdout",
     "output_type": "stream",
     "text": [
      "A    1\n",
      "B    1\n",
      "C    1\n",
      "D    0\n",
      "dtype: int64\n"
     ]
    }
   ],
   "source": [
    "import pandas as pd\n",
    "import numpy as np\n",
    "\n",
    "# Create a sample dataframe with missing values\n",
    "df = pd.DataFrame({\n",
    "    'A': [1, 2, np.nan, 4, 5],\n",
    "    'B': [np.nan, 2, 3, 4, 5],\n",
    "    'C': [1, 2, 3, np.nan, 5],\n",
    "    'D': [1, 2, 3, 4, 5]\n",
    "})\n",
    "\n",
    "# Define the function\n",
    "def count_missing_values(df):\n",
    "    return df.isna().sum()\n",
    "\n",
    "# Test the function\n",
    "result = count_missing_values(df)\n",
    "print(result)"
   ]
  },
  {
   "cell_type": "markdown",
   "metadata": {},
   "source": [
    "9. Write a function in both `R` and `Python` that takes a string and returns the number of vowels in the string."
   ]
  },
  {
   "cell_type": "markdown",
   "metadata": {},
   "source": [
    "R"
   ]
  },
  {
   "cell_type": "code",
   "execution_count": null,
   "metadata": {},
   "outputs": [],
   "source": [
    "count_vowels <- function(input_string) {\n",
    "    # Define the vowels\n",
    "    vowels <- c('a', 'e', 'i', 'o', 'u', 'A', 'E', 'I', 'O', 'U')\n",
    "    \n",
    "    # Split the string into individual characters\n",
    "    chars <- strsplit(input_string, NULL)[[1]]\n",
    "    \n",
    "    # Count the number of vowels\n",
    "    num_vowels <- sum(chars %in% vowels)\n",
    "    \n",
    "    return(num_vowels)\n",
    "}\n",
    "\n",
    "# Test the function\n",
    "test_string <- \"Hello World\"\n",
    "print(count_vowels(test_string))  # Output should be 3"
   ]
  },
  {
   "cell_type": "markdown",
   "metadata": {},
   "source": [
    "Python"
   ]
  },
  {
   "cell_type": "code",
   "execution_count": null,
   "metadata": {},
   "outputs": [
    {
     "name": "stdout",
     "output_type": "stream",
     "text": [
      "3\n"
     ]
    }
   ],
   "source": [
    "def count_vowels(input_string):\n",
    "    # Define the vowels\n",
    "    vowels = 'aeiouAEIOU'\n",
    "    \n",
    "    # Count the number of vowels\n",
    "    num_vowels = sum(1 for char in input_string if char in vowels)\n",
    "    \n",
    "    return num_vowels\n",
    "\n",
    "# Test the function\n",
    "test_string = \"Hello World\"\n",
    "print(count_vowels(test_string))  # Output should be 3"
   ]
  },
  {
   "cell_type": "markdown",
   "metadata": {},
   "source": [
    "10. Ask Copilot to translate the following binary code into text:\n",
    "\n",
    "```verbatim\n",
    "01011001 01101111 01110101 00100111 01110110 01100101 00100000 01100011 01101111 01101101 01110000 01101100 01100101 01110100 01100101 01100100 00100000 01110100 01101000 01100101 00100000 01100001 01110011 01110011 01101001 01100111 01101110 01101101 01100101 01101110 01110100 00101110 00100000 01000011 01101111 01101110 01100111 01110010 01100001 01110100 01110101 01101100 01100001 01110100 01101001 01101111 01101110 01110011 00100001\n",
    "```"
   ]
  },
  {
   "cell_type": "code",
   "execution_count": 10,
   "metadata": {},
   "outputs": [
    {
     "name": "stdout",
     "output_type": "stream",
     "text": [
      "You've completed the assignment. Congratulations!\n"
     ]
    }
   ],
   "source": [
    "binary_code = \"01011001 01101111 01110101 00100111 01110110 01100101 00100000 01100011 01101111 01101101 01110000 01101100 01100101 01110100 01100101 01100100 00100000 01110100 01101000 01100101 00100000 01100001 01110011 01110011 01101001 01100111 01101110 01101101 01100101 01101110 01110100 00101110 00100000 01000011 01101111 01101110 01100111 01110010 01100001 01110100 01110101 01101100 01100001 01110100 01101001 01101111 01101110 01110011 00100001\"\n",
    "\n",
    "# Convert binary to text\n",
    "text = ''.join([chr(int(b, 2)) for b in binary_code.split()])\n",
    "print(text)"
   ]
  }
 ],
 "metadata": {
  "kernelspec": {
   "display_name": "Python 3",
   "language": "python",
   "name": "python3"
  },
  "language_info": {
   "codemirror_mode": {
    "name": "ipython",
    "version": 3
   },
   "file_extension": ".py",
   "mimetype": "text/x-python",
   "name": "python",
   "nbconvert_exporter": "python",
   "pygments_lexer": "ipython3",
   "version": "3.13.0"
  }
 },
 "nbformat": 4,
 "nbformat_minor": 2
}
